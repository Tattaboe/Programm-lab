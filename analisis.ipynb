{
 "cells": [
  {
   "cell_type": "markdown",
   "metadata": {},
   "source": [
    "#   Лабораторная работа 4. Анализ и визуализация данных. Вариант 3\n"
   ]
  },
  {
   "cell_type": "code",
   "execution_count": 62,
   "metadata": {},
   "outputs": [],
   "source": [
    "import csv\n",
    "import cv2\n",
    "import matplotlib.pyplot as plt\n",
    "import random\n",
    "import pandas as pd\n"
   ]
  },
  {
   "cell_type": "markdown",
   "metadata": {},
   "source": [
    "1. Создание Dataframe с двумя колонками (название класса и абсолютный путь к файлу)"
   ]
  },
  {
   "cell_type": "code",
   "execution_count": 63,
   "metadata": {},
   "outputs": [],
   "source": [
    "file_name = 'annotation.csv'\n",
    "Label = []\n",
    "class_name = []\n",
    "abs_way = []\n",
    "with open(file_name) as file:\n",
    "    reader = csv.reader(file)\n",
    "    for row in reader:\n",
    "        if row[2] == 'cats':\n",
    "            Label.append(0)\n",
    "        elif row[2] == 'dogs':\n",
    "            Label.append(1)\n",
    "        else:\n",
    "           Label.append('class label')\n",
    "        class_name.append(row[2])\n",
    "        abs_way.append(row[0])\n",
    "\n",
    "dataframe = pd.DataFrame(\n",
    "    {\n",
    "        class_name[0]: pd.array(class_name[1:]),\n",
    "        abs_way[0]: pd.array(abs_way[1:]),\n",
    "    }\n",
    ")"
   ]
  },
  {
   "cell_type": "markdown",
   "metadata": {},
   "source": [
    "2. Именование колонок"
   ]
  },
  {
   "cell_type": "code",
   "execution_count": 64,
   "metadata": {},
   "outputs": [],
   "source": [
    "dataframe = dataframe.rename(\n",
    "    columns={class_name[0]: 'class_name',\n",
    "                abs_way[0]: 'absolute_way'}\n",
    ")"
   ]
  },
  {
   "cell_type": "markdown",
   "metadata": {},
   "source": [
    "3. Числовая метка"
   ]
  },
  {
   "cell_type": "code",
   "execution_count": 65,
   "metadata": {},
   "outputs": [],
   "source": [
    "dataframe['Label'] = pd.array(Label[1:])"
   ]
  },
  {
   "cell_type": "markdown",
   "metadata": {},
   "source": [
    "4. Информация о высоте, ширине и глубине  изображения"
   ]
  },
  {
   "cell_type": "code",
   "execution_count": 66,
   "metadata": {},
   "outputs": [],
   "source": [
    "Width = []\n",
    "Hight = []\n",
    "Depth = []\n",
    "Pixels_Count = []\n",
    "for way in abs_way[1:]:\n",
    "    try:\n",
    "        image = cv2.imread(way)\n",
    "        Width.append(image.shape[1])\n",
    "        Hight.append(image.shape[0])\n",
    "        Depth.append(image.shape[2])\n",
    "        Pixels_Count.append(image.size)\n",
    "    except BaseException:\n",
    "        pass \n",
    "dataframe['Width'] = pd.array(Width)\n",
    "dataframe['Hight'] = pd.array(Hight)\n",
    "dataframe['Depth'] = pd.array(Depth)"
   ]
  },
  {
   "cell_type": "code",
   "execution_count": 67,
   "metadata": {},
   "outputs": [
    {
     "name": "stdout",
     "output_type": "stream",
     "text": [
      "     class_name                                       absolute_way  Label  \\\n",
      "0          cats  /Users/polina/Documents/Programm-lab/dataset/c...      0   \n",
      "1          cats  /Users/polina/Documents/Programm-lab/dataset/c...      0   \n",
      "2          cats  /Users/polina/Documents/Programm-lab/dataset/c...      0   \n",
      "3          cats  /Users/polina/Documents/Programm-lab/dataset/c...      0   \n",
      "4          cats  /Users/polina/Documents/Programm-lab/dataset/c...      0   \n",
      "...         ...                                                ...    ...   \n",
      "1995       dogs  /Users/polina/Documents/Programm-lab/dataset/d...      1   \n",
      "1996       dogs  /Users/polina/Documents/Programm-lab/dataset/d...      1   \n",
      "1997       dogs  /Users/polina/Documents/Programm-lab/dataset/d...      1   \n",
      "1998       dogs  /Users/polina/Documents/Programm-lab/dataset/d...      1   \n",
      "1999       dogs  /Users/polina/Documents/Programm-lab/dataset/d...      1   \n",
      "\n",
      "      Width  Hight  Depth  \n",
      "0       448    320      3  \n",
      "1       480    300      3  \n",
      "2       480    320      3  \n",
      "3       448    320      3  \n",
      "4       480    270      3  \n",
      "...     ...    ...    ...  \n",
      "1995    480    300      3  \n",
      "1996    248    320      3  \n",
      "1997    480    319      3  \n",
      "1998    480    289      3  \n",
      "1999    480    300      3  \n",
      "\n",
      "[2000 rows x 6 columns]\n"
     ]
    }
   ],
   "source": [
    "print(dataframe)"
   ]
  },
  {
   "cell_type": "markdown",
   "metadata": {},
   "source": [
    "5. Вычисление статистической информации"
   ]
  },
  {
   "cell_type": "code",
   "execution_count": 68,
   "metadata": {},
   "outputs": [
    {
     "name": "stdout",
     "output_type": "stream",
     "text": [
      "\n",
      "Width_Statistic\n",
      " count       2000.0\n",
      "mean       444.026\n",
      "std      63.880417\n",
      "min          180.0\n",
      "25%          427.0\n",
      "50%          480.0\n",
      "75%          480.0\n",
      "max          480.0\n",
      "Name: Width, dtype: Float64\n",
      "\n",
      "Hight_Statistic\n",
      " count      2000.0\n",
      "mean     305.3425\n",
      "std      26.32846\n",
      "min         182.0\n",
      "25%         300.0\n",
      "50%         320.0\n",
      "75%         320.0\n",
      "max         320.0\n",
      "Name: Hight, dtype: Float64\n",
      "\n",
      "Depth_Statistic\n",
      " count    2000.0\n",
      "mean        3.0\n",
      "std         0.0\n",
      "min         3.0\n",
      "25%         3.0\n",
      "50%         3.0\n",
      "75%         3.0\n",
      "max         3.0\n",
      "Name: Depth, dtype: Float64\n",
      "\n",
      "Class_Label_Statistic\n",
      " count      2000.0\n",
      "mean          0.5\n",
      "std      0.500125\n",
      "min           0.0\n",
      "25%           0.0\n",
      "50%           0.5\n",
      "75%           1.0\n",
      "max           1.0\n",
      "Name: Label, dtype: Float64\n"
     ]
    }
   ],
   "source": [
    "print('\\nWidth_Statistic\\n', dataframe['Width'].describe())\n",
    "print('\\nHight_Statistic\\n', dataframe['Hight'].describe())\n",
    "print('\\nDepth_Statistic\\n', dataframe['Depth'].describe())\n",
    "print('\\nClass_Label_Statistic\\n', dataframe['Label'].describe())"
   ]
  },
  {
   "cell_type": "markdown",
   "metadata": {},
   "source": [
    "6. Отфильтрованный по метке DataFrame"
   ]
  },
  {
   "cell_type": "code",
   "execution_count": 69,
   "metadata": {},
   "outputs": [
    {
     "name": "stdout",
     "output_type": "stream",
     "text": [
      "\n",
      "Label =  1\n"
     ]
    }
   ],
   "source": [
    "choise = int(input())\n",
    "print('\\nLabel = ', choise)"
   ]
  },
  {
   "cell_type": "code",
   "execution_count": 70,
   "metadata": {},
   "outputs": [],
   "source": [
    "def filtering(dataframe, class_type):\n",
    "    '''\n",
    "    Фильтрует DataFrame по указанному типу класса и возвращает новый DataFrame\n",
    "\n",
    "    Parametres\n",
    "      dataframe\n",
    "      Исходный датафрейм\n",
    "      class_type\n",
    "      тип класса\n",
    "    Returns\n",
    "      res_dataframe\n",
    "      Отфильтрованный DataFrame\n",
    "    \n",
    "    '''\n",
    "    class_name = ''\n",
    "    if (class_type == 1):\n",
    "        class_name = 'cats'\n",
    "    if (class_type == 2):\n",
    "        class_name = 'dogs'\n",
    "    res_dataframe = (dataframe[dataframe.class_name == class_name])\n",
    "    return res_dataframe"
   ]
  },
  {
   "cell_type": "code",
   "execution_count": null,
   "metadata": {},
   "outputs": [],
   "source": [
    "print(filtering(dataframe, choise))"
   ]
  }
 ],
 "metadata": {
  "kernelspec": {
   "display_name": ".venv",
   "language": "python",
   "name": "python3"
  },
  "language_info": {
   "codemirror_mode": {
    "name": "ipython",
    "version": 3
   },
   "file_extension": ".py",
   "mimetype": "text/x-python",
   "name": "python",
   "nbconvert_exporter": "python",
   "pygments_lexer": "ipython3",
   "version": "3.11.5"
  }
 },
 "nbformat": 4,
 "nbformat_minor": 2
}
